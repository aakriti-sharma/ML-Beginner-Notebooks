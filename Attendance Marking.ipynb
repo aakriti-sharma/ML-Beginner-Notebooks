{
 "cells": [
  {
   "cell_type": "code",
   "execution_count": 3,
   "id": "d827d92c",
   "metadata": {},
   "outputs": [],
   "source": [
    "import pandas as pd"
   ]
  },
  {
   "cell_type": "code",
   "execution_count": 7,
   "id": "61075807",
   "metadata": {},
   "outputs": [
    {
     "data": {
      "text/html": [
       "<div>\n",
       "<style scoped>\n",
       "    .dataframe tbody tr th:only-of-type {\n",
       "        vertical-align: middle;\n",
       "    }\n",
       "\n",
       "    .dataframe tbody tr th {\n",
       "        vertical-align: top;\n",
       "    }\n",
       "\n",
       "    .dataframe thead th {\n",
       "        text-align: right;\n",
       "    }\n",
       "</style>\n",
       "<table border=\"1\" class=\"dataframe\">\n",
       "  <thead>\n",
       "    <tr style=\"text-align: right;\">\n",
       "      <th></th>\n",
       "      <th>NamesA</th>\n",
       "      <th>AttendanceA</th>\n",
       "      <th>NamesB</th>\n",
       "      <th>AttendanceB</th>\n",
       "    </tr>\n",
       "  </thead>\n",
       "  <tbody>\n",
       "    <tr>\n",
       "      <th>0</th>\n",
       "      <td>NHPSPSTD5550</td>\n",
       "      <td>NaN</td>\n",
       "      <td>NHPSPSTD5649</td>\n",
       "      <td>NaN</td>\n",
       "    </tr>\n",
       "    <tr>\n",
       "      <th>1</th>\n",
       "      <td>NHPSPSTD386</td>\n",
       "      <td>NaN</td>\n",
       "      <td>NHPSPSTD7424</td>\n",
       "      <td>NaN</td>\n",
       "    </tr>\n",
       "    <tr>\n",
       "      <th>2</th>\n",
       "      <td>NHPSPSTD460</td>\n",
       "      <td>NaN</td>\n",
       "      <td>NHPSPSTD459</td>\n",
       "      <td>NaN</td>\n",
       "    </tr>\n",
       "    <tr>\n",
       "      <th>3</th>\n",
       "      <td>NHPSPSTD5557</td>\n",
       "      <td>NaN</td>\n",
       "      <td>NHPSPSTD587</td>\n",
       "      <td>NaN</td>\n",
       "    </tr>\n",
       "    <tr>\n",
       "      <th>4</th>\n",
       "      <td>NHPSPSTD5627</td>\n",
       "      <td>NaN</td>\n",
       "      <td>NHPSPSTD421</td>\n",
       "      <td>NaN</td>\n",
       "    </tr>\n",
       "  </tbody>\n",
       "</table>\n",
       "</div>"
      ],
      "text/plain": [
       "         NamesA  AttendanceA        NamesB  AttendanceB\n",
       "0  NHPSPSTD5550          NaN  NHPSPSTD5649          NaN\n",
       "1   NHPSPSTD386          NaN  NHPSPSTD7424          NaN\n",
       "2   NHPSPSTD460          NaN   NHPSPSTD459          NaN\n",
       "3  NHPSPSTD5557          NaN   NHPSPSTD587          NaN\n",
       "4  NHPSPSTD5627          NaN   NHPSPSTD421          NaN"
      ]
     },
     "execution_count": 7,
     "metadata": {},
     "output_type": "execute_result"
    }
   ],
   "source": [
    "names=pd.read_excel(r\"C:\\Users\\HP\\Downloads\\Names.xlsx\",sheet_name='Sheet1')   #feeding all the student names\n",
    "names.head()"
   ]
  },
  {
   "cell_type": "code",
   "execution_count": 12,
   "id": "53eb183b",
   "metadata": {},
   "outputs": [
    {
     "data": {
      "text/html": [
       "<div>\n",
       "<style scoped>\n",
       "    .dataframe tbody tr th:only-of-type {\n",
       "        vertical-align: middle;\n",
       "    }\n",
       "\n",
       "    .dataframe tbody tr th {\n",
       "        vertical-align: top;\n",
       "    }\n",
       "\n",
       "    .dataframe thead th {\n",
       "        text-align: right;\n",
       "    }\n",
       "</style>\n",
       "<table border=\"1\" class=\"dataframe\">\n",
       "  <thead>\n",
       "    <tr style=\"text-align: right;\">\n",
       "      <th></th>\n",
       "      <th>Full Name</th>\n",
       "      <th>Join Time</th>\n",
       "      <th>Leave Time</th>\n",
       "      <th>Duration</th>\n",
       "      <th>userPrincipalName</th>\n",
       "      <th>Role</th>\n",
       "    </tr>\n",
       "  </thead>\n",
       "  <tbody>\n",
       "    <tr>\n",
       "      <th>0</th>\n",
       "      <td>NHPSPSTD584</td>\n",
       "      <td>8/17/2021, 2:35:17 PM</td>\n",
       "      <td>8/17/2021, 3:33:59 PM</td>\n",
       "      <td>58m 42s</td>\n",
       "      <td>nhpspstd584@newhorizonsms.org</td>\n",
       "      <td>Attendee</td>\n",
       "    </tr>\n",
       "    <tr>\n",
       "      <th>1</th>\n",
       "      <td>NHPSPSTD6871</td>\n",
       "      <td>8/17/2021, 2:44:25 PM</td>\n",
       "      <td>8/17/2021, 3:36:39 PM</td>\n",
       "      <td>52m 13s</td>\n",
       "      <td>nhpspstd6871@newhorizonsms.org</td>\n",
       "      <td>Attendee</td>\n",
       "    </tr>\n",
       "    <tr>\n",
       "      <th>2</th>\n",
       "      <td>NHPSPSTD5520</td>\n",
       "      <td>8/17/2021, 2:44:35 PM</td>\n",
       "      <td>8/17/2021, 3:34:31 PM</td>\n",
       "      <td>49m 55s</td>\n",
       "      <td>nhpspstd5520@newhorizonsms.org</td>\n",
       "      <td>Attendee</td>\n",
       "    </tr>\n",
       "    <tr>\n",
       "      <th>3</th>\n",
       "      <td>NHPSPSTD7424</td>\n",
       "      <td>8/17/2021, 2:46:42 PM</td>\n",
       "      <td>8/17/2021, 3:36:46 PM</td>\n",
       "      <td>50m 3s</td>\n",
       "      <td>nhpspstd7424@newhorizonsms.org</td>\n",
       "      <td>Attendee</td>\n",
       "    </tr>\n",
       "    <tr>\n",
       "      <th>4</th>\n",
       "      <td>NHPSPSTD7407</td>\n",
       "      <td>8/17/2021, 2:48:08 PM</td>\n",
       "      <td>8/17/2021, 3:04:54 PM</td>\n",
       "      <td>16m 46s</td>\n",
       "      <td>nhpspstd7407@newhorizonsms.org</td>\n",
       "      <td>Attendee</td>\n",
       "    </tr>\n",
       "  </tbody>\n",
       "</table>\n",
       "</div>"
      ],
      "text/plain": [
       "      Full Name              Join Time             Leave Time Duration  \\\n",
       "0   NHPSPSTD584  8/17/2021, 2:35:17 PM  8/17/2021, 3:33:59 PM  58m 42s   \n",
       "1  NHPSPSTD6871  8/17/2021, 2:44:25 PM  8/17/2021, 3:36:39 PM  52m 13s   \n",
       "2  NHPSPSTD5520  8/17/2021, 2:44:35 PM  8/17/2021, 3:34:31 PM  49m 55s   \n",
       "3  NHPSPSTD7424  8/17/2021, 2:46:42 PM  8/17/2021, 3:36:46 PM   50m 3s   \n",
       "4  NHPSPSTD7407  8/17/2021, 2:48:08 PM  8/17/2021, 3:04:54 PM  16m 46s   \n",
       "\n",
       "                userPrincipalName      Role  \n",
       "0   nhpspstd584@newhorizonsms.org  Attendee  \n",
       "1  nhpspstd6871@newhorizonsms.org  Attendee  \n",
       "2  nhpspstd5520@newhorizonsms.org  Attendee  \n",
       "3  nhpspstd7424@newhorizonsms.org  Attendee  \n",
       "4  nhpspstd7407@newhorizonsms.org  Attendee  "
      ]
     },
     "execution_count": 12,
     "metadata": {},
     "output_type": "execute_result"
    }
   ],
   "source": [
    "attendance = pd.read_excel(r\"C:\\Users\\HP\\Downloads\\attendance.xlsx\",sheet_name=\"S\")  #reading today's attendance\n",
    "attendance.head()"
   ]
  },
  {
   "cell_type": "code",
   "execution_count": 31,
   "id": "bd5e9dfd",
   "metadata": {},
   "outputs": [
    {
     "data": {
      "text/plain": [
       "66"
      ]
     },
     "execution_count": 31,
     "metadata": {},
     "output_type": "execute_result"
    }
   ],
   "source": [
    "att=set(attendance['Full Name'])\n",
    "len(att)"
   ]
  },
  {
   "cell_type": "code",
   "execution_count": 32,
   "id": "4b9da55d",
   "metadata": {},
   "outputs": [
    {
     "data": {
      "text/html": [
       "<div>\n",
       "<style scoped>\n",
       "    .dataframe tbody tr th:only-of-type {\n",
       "        vertical-align: middle;\n",
       "    }\n",
       "\n",
       "    .dataframe tbody tr th {\n",
       "        vertical-align: top;\n",
       "    }\n",
       "\n",
       "    .dataframe thead th {\n",
       "        text-align: right;\n",
       "    }\n",
       "</style>\n",
       "<table border=\"1\" class=\"dataframe\">\n",
       "  <thead>\n",
       "    <tr style=\"text-align: right;\">\n",
       "      <th></th>\n",
       "      <th>NamesA</th>\n",
       "      <th>AttendanceA</th>\n",
       "      <th>NamesB</th>\n",
       "      <th>AttendanceB</th>\n",
       "    </tr>\n",
       "  </thead>\n",
       "  <tbody>\n",
       "    <tr>\n",
       "      <th>0</th>\n",
       "      <td>NHPSPSTD5550</td>\n",
       "      <td>0.0</td>\n",
       "      <td>NHPSPSTD5649</td>\n",
       "      <td>1.0</td>\n",
       "    </tr>\n",
       "    <tr>\n",
       "      <th>1</th>\n",
       "      <td>NHPSPSTD386</td>\n",
       "      <td>1.0</td>\n",
       "      <td>NHPSPSTD7424</td>\n",
       "      <td>1.0</td>\n",
       "    </tr>\n",
       "    <tr>\n",
       "      <th>2</th>\n",
       "      <td>NHPSPSTD460</td>\n",
       "      <td>1.0</td>\n",
       "      <td>NHPSPSTD459</td>\n",
       "      <td>1.0</td>\n",
       "    </tr>\n",
       "    <tr>\n",
       "      <th>3</th>\n",
       "      <td>NHPSPSTD5557</td>\n",
       "      <td>1.0</td>\n",
       "      <td>NHPSPSTD587</td>\n",
       "      <td>1.0</td>\n",
       "    </tr>\n",
       "    <tr>\n",
       "      <th>4</th>\n",
       "      <td>NHPSPSTD5627</td>\n",
       "      <td>0.0</td>\n",
       "      <td>NHPSPSTD421</td>\n",
       "      <td>1.0</td>\n",
       "    </tr>\n",
       "  </tbody>\n",
       "</table>\n",
       "</div>"
      ],
      "text/plain": [
       "         NamesA  AttendanceA        NamesB  AttendanceB\n",
       "0  NHPSPSTD5550          0.0  NHPSPSTD5649          1.0\n",
       "1   NHPSPSTD386          1.0  NHPSPSTD7424          1.0\n",
       "2   NHPSPSTD460          1.0   NHPSPSTD459          1.0\n",
       "3  NHPSPSTD5557          1.0   NHPSPSTD587          1.0\n",
       "4  NHPSPSTD5627          0.0   NHPSPSTD421          1.0"
      ]
     },
     "execution_count": 32,
     "metadata": {},
     "output_type": "execute_result"
    }
   ],
   "source": [
    "for i in range(0,44):                                                    \n",
    "    if names.at[i,'NamesA'] in att:\n",
    "        names.at[i,'AttendanceA']=int(1)\n",
    "    else:\n",
    "        names.at[i,'AttendanceA']=int(0) \n",
    "    if names.at[i,'NamesB'] in att:\n",
    "        names.at[i,'AttendanceB']=int(1)\n",
    "    else:\n",
    "        names.at[i,'AttendanceB']=int(0)                     #marking 1 if the child is present and 0 if absent\n",
    "names.head()   "
   ]
  },
  {
   "cell_type": "code",
   "execution_count": 27,
   "id": "9791e7e8",
   "metadata": {},
   "outputs": [],
   "source": [
    "names.to_excel(r\"C:\\Users\\HP\\Downloads\\attendee.xlsx\")      #saving the transformed file in excel"
   ]
  }
 ],
 "metadata": {
  "kernelspec": {
   "display_name": "Python 3 (ipykernel)",
   "language": "python",
   "name": "python3"
  },
  "language_info": {
   "codemirror_mode": {
    "name": "ipython",
    "version": 3
   },
   "file_extension": ".py",
   "mimetype": "text/x-python",
   "name": "python",
   "nbconvert_exporter": "python",
   "pygments_lexer": "ipython3",
   "version": "3.9.6"
  }
 },
 "nbformat": 4,
 "nbformat_minor": 5
}
